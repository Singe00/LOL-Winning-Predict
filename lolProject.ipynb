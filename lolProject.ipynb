{
 "cells": [
  {
   "cell_type": "markdown",
   "metadata": {
    "id": "nXpCdysUvPlN"
   },
   "source": [
    "# **데이터셋 수집 방법**\n",
    "\n",
    "**step1. LEAGUE-V4에서 특정 랭크의 소환사 닉네임을 가져온다.**\n",
    "\n",
    "**step2. SUMMONER-V4에서 소환사 닉네임으로 puuid를 가져온다.**\n",
    "\n",
    "**step3. MATCH-V4에서 puuid로 match id를 받아온다.**\n",
    "\n",
    "**step4. MATCH-V4에서 match id로 인게임 정보를 받아온다.** "
   ]
  },
  {
   "cell_type": "markdown",
   "metadata": {
    "id": "DZomLg-DpqAq"
   },
   "source": [
    "**LEAGUE-V4에서 특정 랭크의 소환사 닉네임을 가져온다.**"
   ]
  },
  {
   "cell_type": "code",
   "execution_count": 1,
   "metadata": {
    "id": "aAMmhGOW9CFj"
   },
   "outputs": [],
   "source": [
    "import requests\n",
    "import json\n",
    "import time\n",
    "import csv\n",
    "import numpy as np\n",
    "import pandas as pd\n",
    "\n",
    "# for문 진행률 확인 라이브러리\n",
    "from tqdm import tqdm\n",
    "\n",
    "import warnings\n",
    "warnings.filterwarnings('ignore')"
   ]
  },
  {
   "cell_type": "markdown",
   "metadata": {
    "id": "7zaWx7QOqGgN"
   },
   "source": [
    "**API 발급 키 수정**\n",
    "\n",
    "**24시간마다 재발급 후 수정 필요**"
   ]
  },
  {
   "cell_type": "code",
   "execution_count": 2,
   "metadata": {
    "id": "2PoPK0HVwVM8"
   },
   "outputs": [],
   "source": [
    "api_key1 = 'your key' \n",
    "api_key2 = 'your key' \n",
    "api_key3 = 'your key' \n",
    "api_key4 = 'your key' \n",
    "api_key5 = 'your key' \n",
    "api_key6 = 'your key' \n",
    "api_key7 = 'your key' \n",
    "api_key8 = 'your key' \n",
    "api_key9 = 'your key' \n",
    "api_key10 = 'your key' \n",
    "api_key11 = 'your key'\n",
    "\n",
    "api_keys  = [api_key1, api_key2, api_key3, api_key4, api_key5, api_key6,api_key7,api_key8,api_key9,api_key10]\n"
   ]
  },
  {
   "cell_type": "markdown",
   "metadata": {
    "id": "Ab-GUD6OwVR0"
   },
   "source": [
    "**마스터 랭크 이상인 플레이어의 닉네임 추출**"
   ]
  },
  {
   "cell_type": "code",
   "execution_count": null,
   "metadata": {
    "colab": {
     "base_uri": "https://localhost:8080/"
    },
    "id": "bEV4vImFwVWy",
    "outputId": "eade4d22-941b-4925-9378-3753886bb620"
   },
   "outputs": [],
   "source": [
    "\n",
    "#마스터랭크\n",
    "mUrl = f'https://kr.api.riotgames.com/lol/league/v4/masterleagues/by-queue/RANKED_SOLO_5x5?api_key={api_key1}'\n",
    "r1 = requests.get(mUrl)\n",
    "r1 = r1.json()['entries'] #소환사의 고유 id\n",
    "\n",
    "#그랜드마스터랭크\n",
    "gmUrl = 'https://kr.api.riotgames.com/lol/league/v4/grandmasterleagues/by-queue/RANKED_SOLO_5x5?api_key=' + api_key1\n",
    "r2 = requests.get(gmUrl)\n",
    "r2 = r2.json()['entries'] #소환사의 고유 id\n",
    "\n",
    "#챌린져랭크\n",
    "cUrl = 'https://kr.api.riotgames.com/lol/league/v4/challengerleagues/by-queue/RANKED_SOLO_5x5?api_key=' + api_key1\n",
    "r3 = requests.get(cUrl)\n",
    "r3 = r3.json()['entries'] #소환사의 고유 id\n",
    "\n",
    "# print(r.json())\n",
    "\n",
    "summonerId = []\n",
    "CsummonerId = []\n",
    "\n",
    "num = 0\n",
    "\n",
    "for i in r1:\n",
    "    summonerId.append(i['summonerName'])\n",
    "    num += 1\n",
    "\n",
    "for i in r2:\n",
    "    summonerId.append(i['summonerName'])\n",
    "    num += 1\n",
    "\n",
    "for i in r3:\n",
    "    CsummonerId.append(i['summonerName'])\n",
    "    summonerId.append(i['summonerName'])\n",
    "    num += 1\n",
    "\n",
    "print(num)\n",
    "print(summonerId)"
   ]
  },
  {
   "cell_type": "code",
   "execution_count": null,
   "metadata": {},
   "outputs": [],
   "source": [
    "print(len(summonerId))"
   ]
  },
  {
   "cell_type": "markdown",
   "metadata": {
    "id": "GtOo7yzYsKs_"
   },
   "source": [
    "**추출한 플레이어 닉네임으로 puuid 추출**"
   ]
  },
  {
   "cell_type": "code",
   "execution_count": null,
   "metadata": {},
   "outputs": [],
   "source": [
    "summonerpuuId = []\n",
    "\n",
    "# 반복문을 사용하여 모든 데이터에 대해 api 요청\n",
    "#for i, data in enumerate(tqdm(summonerId)):\n",
    "for i in tqdm(range(len(summonerId))):\n",
    "    # 현재 api_key와 남은 api 요청 횟수\n",
    "    api_key, remaining = api_keys[i % 10], i % 1000\n",
    "    # api_key의 요청 제한에 걸릴 경우 2분 휴식\n",
    "    #if remaining == 999 and api_key == api_keys[9]:\n",
    "    #    print('대기')\n",
    "    #    time.sleep(120)\n",
    "    # api 요청\n",
    "    #url = f'https://asia.api.riotgames.com/lol/match/v5/matches/by-puuid/{data}/ids?queue=420&type=ranked&start=0&count=5&api_key={api_key}'\n",
    "    url = f'https://kr.api.riotgames.com/lol/summoner/v4/summoners/by-name/{summonerId[i]}?api_key={api_key}'\n",
    "    response = requests.get(url)\n",
    "    if response.status_code != 200:\n",
    "        summonerpuuId.append('error')\n",
    "        continue\n",
    "    # response에서 puuid 추출하여 리스트에 저장\n",
    "    summonerpuuId.append(response.json()['puuid'])"
   ]
  },
  {
   "cell_type": "code",
   "execution_count": null,
   "metadata": {},
   "outputs": [],
   "source": [
    "print(len(summonerpuuId))\n",
    "print(summonerpuuId)"
   ]
  },
  {
   "cell_type": "markdown",
   "metadata": {
    "id": "uGUMCkyhsOrs"
   },
   "source": [
    "**추출한 puuid를 csv파일에 저장**"
   ]
  },
  {
   "cell_type": "code",
   "execution_count": null,
   "metadata": {
    "id": "8_m1VjGlsOrt"
   },
   "outputs": [],
   "source": [
    "with open('puuid.csv', mode='w', newline='') as file:\n",
    "    writer = csv.writer(file)\n",
    "    for item in summonerpuuId:\n",
    "        writer.writerow([item])"
   ]
  },
  {
   "cell_type": "code",
   "execution_count": null,
   "metadata": {
    "colab": {
     "base_uri": "https://localhost:8080/"
    },
    "id": "kikx9ht6c7k8",
    "outputId": "088db102-7c0a-4fbd-9348-a8a70eafd1e0"
   },
   "outputs": [],
   "source": [
    "# csv 파일 경로 설정\n",
    "csv_file_path = \"puuid.csv\"\n",
    "\n",
    "# csv 파일 읽기 모드로 열기\n",
    "with open(csv_file_path, \"r\") as csvfile:\n",
    "\n",
    "    # csv 파일 읽기 객체 생성\n",
    "    csv_reader = csv.reader(csvfile)\n",
    "    next(csv_reader)\n",
    "    # 데이터를 저장할 리스트 생성\n",
    "    data = []\n",
    "\n",
    "    # 각 행을 읽어서 리스트에 저장\n",
    "    for row in csv_reader:\n",
    "        data.extend(row)\n",
    "\n",
    "# 결과 출력\n",
    "print(data)"
   ]
  },
  {
   "cell_type": "markdown",
   "metadata": {
    "id": "7csR1ruLsO0Q"
   },
   "source": [
    "**추출한 puuid로 matchid 추출**"
   ]
  },
  {
   "cell_type": "code",
   "execution_count": null,
   "metadata": {},
   "outputs": [],
   "source": [
    "matchid = []\n",
    "        \n",
    "for i in tqdm(range(len(summonerpuuId))):\n",
    "    # 현재 api_key와 남은 api 요청 횟수\n",
    "    api_key, remaining = api_keys[i % 10], i % 1000\n",
    "    # api_key의 요청 제한에 걸릴 경우 2분 휴식\n",
    "    #if remaining == 999 and api_key == api_keys[9]:\n",
    "    #    print('대기')\n",
    "    #    time.sleep(120)\n",
    "    # api 요청\n",
    "    url = f'https://asia.api.riotgames.com/lol/match/v5/matches/by-puuid/{summonerpuuId[i]}/ids?queue=420&start=0&count=100&api_key={api_key}'\n",
    "    response = requests.get(url)\n",
    "    if response.status_code != 200:\n",
    "        print(\"파싱 에러\")\n",
    "        continue\n",
    "    else:\n",
    "        matchid += response.json()"
   ]
  },
  {
   "cell_type": "markdown",
   "metadata": {},
   "source": [
    "**중복값 삭제**"
   ]
  },
  {
   "cell_type": "code",
   "execution_count": null,
   "metadata": {
    "scrolled": true
   },
   "outputs": [],
   "source": [
    "print(len(matchid))\n",
    "matchid = list(set(matchid))\n",
    "print(len(matchid))\n",
    "matchid.sort()\n",
    "matchid"
   ]
  },
  {
   "cell_type": "markdown",
   "metadata": {},
   "source": [
    "**matchid.csv 파일 생성**"
   ]
  },
  {
   "cell_type": "code",
   "execution_count": null,
   "metadata": {},
   "outputs": [],
   "source": [
    "with open('matchid.csv', mode='w', newline='') as file:\n",
    "    writer = csv.writer(file)\n",
    "    for item in matchid:\n",
    "        writer.writerow([item])"
   ]
  },
  {
   "cell_type": "markdown",
   "metadata": {},
   "source": [
    "**matchid.csv 파일을 data[]에 저장**"
   ]
  },
  {
   "cell_type": "code",
   "execution_count": 3,
   "metadata": {},
   "outputs": [],
   "source": [
    "# csv 파일 경로 설정\n",
    "csv_file_path = \"matchid.csv\"\n",
    "\n",
    "# csv 파일 읽기 모드로 열기\n",
    "with open(csv_file_path, \"r\") as csvfile:\n",
    "\n",
    "    # csv 파일 읽기 객체 생성\n",
    "    csv_reader = csv.reader(csvfile)\n",
    "    next(csv_reader)\n",
    "    # 데이터를 저장할 리스트 생성\n",
    "    matchid = []\n",
    "\n",
    "    # 각 행을 읽어서 리스트에 저장\n",
    "    for row in csv_reader:\n",
    "        matchid.extend(row)\n"
   ]
  },
  {
   "cell_type": "code",
   "execution_count": 4,
   "metadata": {},
   "outputs": [],
   "source": [
    "data1 = matchid[80000:180000]"
   ]
  },
  {
   "cell_type": "markdown",
   "metadata": {},
   "source": [
    "**데이터 범위 수정**"
   ]
  },
  {
   "cell_type": "code",
   "execution_count": 5,
   "metadata": {},
   "outputs": [
    {
     "name": "stdout",
     "output_type": "stream",
     "text": [
      "344453\n",
      "100000\n"
     ]
    }
   ],
   "source": [
    "print(len(matchid))\n",
    "print(len(data1))"
   ]
  },
  {
   "cell_type": "markdown",
   "metadata": {},
   "source": [
    "**데이터프레임 정의 / 3분단위로 수집할 ms단위 시간 리스트 정의**"
   ]
  },
  {
   "cell_type": "code",
   "execution_count": 6,
   "metadata": {},
   "outputs": [],
   "source": [
    "#수집할 컬럼 정의\n",
    "MatchData = pd.DataFrame(columns = ['gameId','timeStamp'\\\n",
    "                        ,'blueWins','blueTotalGolds','blueCurrentGolds','blueTotalLevel','blueAvgLevel'\\\n",
    "                        ,'blueTotalMinionKills','blueTotalJungleMinionKills'\n",
    "                        ,'blueFirstBlood','blueKill','blueDeath','blueAssist'\\\n",
    "                        ,'blueWardPlaced','blueWardKills','blueFirstTower','blueFirstInhibitor','blueFirstTowerLane'\\\n",
    "                        ,'blueTowerKills','blueMidTowerKills','blueTopTowerKills','blueBotTowerKills','blueInhibitor'\\\n",
    "                        ,'blueFirstDragon','blueDragonType','blueDragon','blueRiftHeralds','blueFirstBaron','blueBaron','blueElite'\\\n",
    "                        ,'redWins','redTotalGolds','redCurrentGolds','redTotalLevel','redAvgLevel'\\\n",
    "                        ,'redTotalMinionKills','redTotalJungleMinionKills'\n",
    "                        ,'redFirstBlood','redKill','redDeath','redAssist'\\\n",
    "                        ,'redWardPlaced','redWardKills','redFirstTower','redFirstInhibitor','redFirstTowerLane'\\\n",
    "                        ,'redTowerKills','redMidTowerKills','redTopTowerKills','redBotTowerKills','redInhibitor'\\\n",
    "                        ,'redFirstDragon','redDragonType','redDragon','redRiftHeralds','redFirstBaron','redBaron','redElite'])\n",
    "\n",
    "timeLine = [180000, 360000, 540000, 720000, 900000, 1080000, 1260000, 1440000, 1620000, 1800000, 1980000, 2160000, 2340000, 2520000, 2700000, 2880000, 3060000, 3240000, 3420000, 3600000]\n",
    "error_list = []\n"
   ]
  },
  {
   "cell_type": "markdown",
   "metadata": {},
   "source": [
    "\n",
    "# **매치 아이디로 게임데이터 3분 단위로 수집**\n"
   ]
  },
  {
   "cell_type": "code",
   "execution_count": null,
   "metadata": {},
   "outputs": [
    {
     "name": "stderr",
     "output_type": "stream",
     "text": [
      " 15%|██████████▍                                                           | 14832/100000 [2:04:04<11:38:54,  2.03it/s]"
     ]
    }
   ],
   "source": [
    "# 데이터를 저장할 리스트 생성\n",
    "data = []\n",
    "\n",
    "for i in tqdm(range(len(data1))):\n",
    "    try:\n",
    "        # 현재 api_key와 남은 api 요청 횟수\n",
    "        api_key = api_keys[i % 10]\n",
    "\n",
    "        # api_key의 요청 제한에 걸릴 경우 2분 휴식\n",
    "        #if remaining == 999 and api_key == api_keys[9]:\n",
    "        #    print('대기')\n",
    "        #    time.sleep(120)\n",
    "        # api 요청\n",
    "        url = f'https://asia.api.riotgames.com/lol/match/v5/matches/{data1[i]}/timeline?api_key={api_key}'\n",
    "        response = requests.get(url)\n",
    "        if response.status_code != 200:\n",
    "            print(response.status_code, api_key)\n",
    "            print(\"파싱 에러\")\n",
    "            continue\n",
    "        else:\n",
    "            game_id = response.json()['metadata']['matchId']\n",
    "\n",
    "\n",
    "            frames = response.json()['info']['frames']\n",
    "            bw = 0\n",
    "            rw = 0\n",
    "            #json data에서 필요한 frames 데이터만\n",
    "\n",
    "            framesIndex = len(frames)-1\n",
    "            iii = len(frames[framesIndex]['events'])-1\n",
    "            if frames[framesIndex]['events'][iii]['winningTeam'] == 100:\n",
    "                bw = 1\n",
    "                rw = 0\n",
    "            else:\n",
    "                bw = 0\n",
    "                rw = 1\n",
    "\n",
    "            lcList = [0]\n",
    "            #시작하고 n분 즉, 수집하고 싶은 시간까지의 인덱스가 어디있을지 추출하는 코드\n",
    "            for i in range(len(timeLine)):\n",
    "                lc0 = 0 # 위치\n",
    "                while True:\n",
    "                    try:\n",
    "                        timestamps = frames[lc0]['timestamp']\n",
    "\n",
    "                        if timestamps <= timeLine[i]: # n Minute를 설정(Ms단위의 timeline)\n",
    "                            lc0 += 1\n",
    "\n",
    "                        else:\n",
    "                            lc = lc0-1\n",
    "                            lcList.append(lc)\n",
    "                            break\n",
    "                    except:\n",
    "                        lc = lc0 - 1\n",
    "                        lcList.append(lc)\n",
    "                        \n",
    "                        break\n",
    "                    \n",
    "            lcList = list(set(lcList)) #[0,5,8,15]\n",
    "            lcList.sort()\n",
    "            \n",
    "            #timestamp별로 독립적인 변수들을 나타내므로 n분까지의 데이터를 수집하기 위해서는 계속 중첩해서 더해줘야 함\n",
    "            blue_kill, red_kill = 0,0\n",
    "            blue_firstkill, red_firstkill = 0,0\n",
    "            blue_assist, red_assist = 0,0\n",
    "            red_death, blue_death = 0,0\n",
    "            blue_wardplace, red_wardplace = 0,0\n",
    "            blue_wardkill, red_wardkill = 0,0\n",
    "            blue_elite, red_elite = 0,0\n",
    "            blue_rift, red_rift = 0,0\n",
    "            blue_dragon, red_dragon = 0,0\n",
    "            blue_baron, red_baron = 0,0\n",
    "            blue_firstdragon, red_firstdragon = 0,0\n",
    "            blue_dragontype, red_dragontype = [],[]\n",
    "            blue_firstbaron, red_firstbaron = 0,0\n",
    "            blue_tower,red_tower = 0,0\n",
    "            blue_firsttower, red_firsttower = 0,0\n",
    "            blue_firsttowerlane, red_firsttowerlane = [],[]\n",
    "            blue_midtower, red_midtower = 0,0\n",
    "            blue_toptower, red_toptower = 0,0\n",
    "            blue_bottower, red_bottower = 0,0\n",
    "            blue_inhibitor, red_inhibitor = 0,0\n",
    "            blue_firstinhibitor, red_firstinhibitor = 0,0\n",
    "\n",
    "            for lcIndex in range(len(lcList)-1):\n",
    "                # participants 1~5 까지는 blueteam, 6~10까지는 redteam\n",
    "                participant = frames[lcList[lcIndex+1]]['participantFrames']\n",
    "\n",
    "                bluetotal_gold, bluecurrent_gold, bluetotal_level, \\\n",
    "                bluetotal_minionkill, bluetotal_jungleminionkill = [],[],[],[],[]\n",
    "\n",
    "                redtotal_gold, redcurrent_gold, redtotal_level, \\\n",
    "                redtotal_minionkill, redtotal_jungleminionkill = [],[],[],[],[]\n",
    "\n",
    "\n",
    "                for i in range(len(participant)):\n",
    "                    i = i+1\n",
    "                    if 1 <=participant[str(i)]['participantId'] <= 5:\n",
    "                        bluetotal_gold.append(participant[str(i)]['totalGold'])\n",
    "                        bluecurrent_gold.append(participant[str(i)]['currentGold'])\n",
    "                        bluetotal_level.append(participant[str(i)]['level'])\n",
    "                        bluetotal_minionkill.append(participant[str(i)]['minionsKilled'])\n",
    "                        bluetotal_jungleminionkill.append(participant[str(i)]['jungleMinionsKilled'])\n",
    "                    else:\n",
    "                        redtotal_gold.append(participant[str(i)]['totalGold'])\n",
    "                        redcurrent_gold.append(participant[str(i)]['currentGold'])\n",
    "                        redtotal_level.append(participant[str(i)]['level'])\n",
    "                        redtotal_minionkill.append(participant[str(i)]['minionsKilled'])\n",
    "                        redtotal_jungleminionkill.append(participant[str(i)]['jungleMinionsKilled'])\n",
    "\n",
    "                \n",
    "                for y in range(lcList[lcIndex]+1,lcList[lcIndex+1]+1):\n",
    "\n",
    "                    events = frames[y]['events']\n",
    "\n",
    "                    for x in range(len(events)):\n",
    "                        if events[x]['type'] == 'WARD_KILL':\n",
    "                            if 1 <= events[x]['killerId'] <= 5:\n",
    "                                blue_wardkill += 1\n",
    "                            else:\n",
    "                                red_wardkill += 1\n",
    "\n",
    "                        elif events[x]['type'] == 'WARD_PLACED':\n",
    "                            if 1 <= events[x]['creatorId'] <= 5:\n",
    "                                blue_wardplace += 1\n",
    "                            else:\n",
    "                                red_wardplace += 1\n",
    "\n",
    "                        elif events[x]['type'] == 'CHAMPION_KILL':\n",
    "\n",
    "                            if 1 <= events[x]['killerId'] <= 5:\n",
    "                                if red_kill ==0 and blue_kill ==0:\n",
    "                                    blue_firstkill += 0\n",
    "\n",
    "                                else:\n",
    "                                    pass\n",
    "\n",
    "                                blue_kill += 1\n",
    "                                try:\n",
    "                                    blue_assist += len(events[x]['assistingParticipantIds'])\n",
    "                                except:\n",
    "                                    pass\n",
    "                                red_death += 1\n",
    "\n",
    "\n",
    "                            else:\n",
    "                                if red_kill ==0 and blue_kill ==0:\n",
    "                                    red_firstkill += 0\n",
    "\n",
    "                                else:\n",
    "                                    pass\n",
    "\n",
    "                                red_kill += 1\n",
    "                                try:\n",
    "                                    red_assist += len(events[x]['assistingParticipantIds'])\n",
    "                                except:\n",
    "                                    pass\n",
    "                                blue_death += 1\n",
    "\n",
    "\n",
    "\n",
    "                        elif events[x]['type'] == 'ELITE_MONSTER_KILL':\n",
    "                            if 1 <= events[x]['killerId'] <= 5:\n",
    "                                blue_elite += 1\n",
    "\n",
    "                                if events[x]['monsterType']== 'DRAGON':\n",
    "                                    if red_dragon ==0 and blue_dragon == 0:\n",
    "                                         blue_firstdragon += 1\n",
    "                                    else:\n",
    "                                        pass\n",
    "\n",
    "                                    blue_dragontype.append(events[x]['monsterSubType'])\n",
    "                                    blue_dragon += 1\n",
    "\n",
    "\n",
    "\n",
    "                                elif events[x]['monsterType']== 'RIFTHERALD':\n",
    "                                    blue_rift += 1\n",
    "\n",
    "                                elif events[x]['monsterType']== 'BARON_NASHOR':\n",
    "                                    if red_baron ==0 and blue_baron == 0:\n",
    "                                         blue_firstbaron += 1\n",
    "                                    else:\n",
    "                                        pass\n",
    "\n",
    "                                    blue_baron += 1\n",
    "\n",
    "                            else:\n",
    "                                red_elite += 1\n",
    "\n",
    "                                if events[x]['monsterType']== 'DRAGON':\n",
    "                                    if red_dragon ==0 and blue_dragon == 0:\n",
    "                                         red_firstdragon += 1\n",
    "                                    else:\n",
    "                                        pass\n",
    "\n",
    "                                    red_dragontype.append(events[x]['monsterSubType'])\n",
    "                                    red_dragon += 1\n",
    "\n",
    "\n",
    "\n",
    "                                elif events[x]['monsterType']== 'RIFTHERALD':\n",
    "                                    red_rift += 1\n",
    "\n",
    "                                elif events[x]['monsterType']== 'BARON_NASHOR':\n",
    "                                    if red_baron ==0 and blue_baron == 0:\n",
    "                                         red_firstbaron += 1\n",
    "                                    else:\n",
    "                                        pass\n",
    "\n",
    "                                    red_baron += 1\n",
    "\n",
    "                        elif events[x]['type'] == 'BUILDING_KILL':\n",
    "                            if 1 <= events[x]['killerId'] <= 5:\n",
    "\n",
    "                                if events[x]['buildingType'] == 'TOWER_BUILDING':\n",
    "                                    if red_tower == 0 and blue_tower ==0:\n",
    "                                        blue_firsttower += 1\n",
    "                                        blue_firsttowerlane.append(events[x]['laneType'])\n",
    "\n",
    "                                    else:\n",
    "                                        pass\n",
    "\n",
    "                                    blue_tower += 1\n",
    "\n",
    "                                    if events[x]['laneType'] == 'MID_LANE':\n",
    "                                        blue_midtower += 1\n",
    "\n",
    "                                    elif events[x]['laneType'] == 'TOP_LANE':\n",
    "                                        blue_toptower += 1\n",
    "\n",
    "                                    elif events[x]['laneType'] == 'BOT_LANE':\n",
    "                                        blue_bottower += 1\n",
    "\n",
    "\n",
    "\n",
    "                                elif events[x]['buildingType'] == 'INHIBITOR_BUILDING':\n",
    "                                    if red_inhibitor == 0 and blue_inhibitor ==0:\n",
    "                                        blue_firstinhibitor += 1\n",
    "\n",
    "                                    else:\n",
    "                                        pass\n",
    "\n",
    "                                    blue_inhibitor += 1\n",
    "\n",
    "                            else:\n",
    "                                if events[x]['buildingType'] == 'TOWER_BUILDING':\n",
    "                                    if red_tower == 0 and blue_tower ==0:\n",
    "                                        red_firsttower += 1\n",
    "                                        red_firsttowerlane.append(events[x]['laneType'])\n",
    "\n",
    "                                    else:\n",
    "                                        pass\n",
    "\n",
    "                                    red_tower += 1\n",
    "\n",
    "                                    if events[x]['laneType'] == 'MID_LANE':\n",
    "                                        red_midtower += 1\n",
    "\n",
    "                                    elif events[x]['laneType'] == 'TOP_LANE':\n",
    "                                        red_toptower += 1\n",
    "\n",
    "                                    elif events[x]['laneType'] == 'BOT_LANE':\n",
    "                                        red_bottower += 1\n",
    "\n",
    "                                elif events[x]['buildingType'] == 'INHIBITOR_BUILDING':\n",
    "                                    if red_inhibitor == 0 and blue_inhibitor ==0:\n",
    "                                        red_firstinhibitor += 1\n",
    "\n",
    "                                    else:\n",
    "                                        pass\n",
    "\n",
    "                                    red_inhibitor += 1\n",
    "                inputData = {'gameId':game_id,\n",
    "                             'timeStamp':timeLine[lcIndex],\n",
    "                             'blueWins':bw,\n",
    "                             'blueTotalGolds':np.sum(bluetotal_gold),\n",
    "                             'blueCurrentGolds':np.sum(bluecurrent_gold),\n",
    "                             'blueTotalLevel':np.sum(bluetotal_level),\n",
    "                             'blueAvgLevel':np.mean(bluetotal_level),\n",
    "                             'blueTotalMinionKills':np.sum(bluetotal_minionkill),\n",
    "                             'blueTotalJungleMinionKills':np.sum(bluetotal_jungleminionkill),\n",
    "                             'blueFirstBlood':blue_firstkill,\n",
    "                             'blueKill':blue_kill,\n",
    "                             'blueDeath':blue_death,\n",
    "                             'blueAssist':blue_assist,\n",
    "                             'blueWardPlaced':blue_wardplace,\n",
    "                             'blueWardKills':blue_wardkill,\n",
    "                             'blueFirstTower':blue_firsttower,\n",
    "                             'blueFirstInhibitor':blue_firstinhibitor,\n",
    "                             'blueFirstTowerLane':blue_firsttowerlane.copy(),\n",
    "                             'blueTowerKills':blue_tower,\n",
    "                             'blueMidTowerKills':blue_midtower,\n",
    "                             'blueTopTowerKills':blue_toptower,\n",
    "                             'blueBotTowerKills':blue_bottower,\n",
    "                             'blueInhibitor':blue_inhibitor,\n",
    "                             'blueFirstDragon':blue_firstdragon,\n",
    "                             'blueDragonType':blue_dragontype.copy(),\n",
    "                             'blueDragon':blue_dragon,\n",
    "                             'blueRiftHeralds':blue_rift,\n",
    "                             'blueFirstBaron':blue_firstbaron,\n",
    "                             'blueBaron':blue_baron,\n",
    "                             'blueElite':blue_elite,\n",
    "                             'redWins':rw,\n",
    "                             'redTotalGolds': np.sum(redtotal_gold),\n",
    "                             'redCurrentGolds': np.sum(redcurrent_gold),\n",
    "                             'redTotalLevel':np.sum(redtotal_level),\n",
    "                             'redAvgLevel':np.mean(redtotal_level),\n",
    "                             'redTotalMinionKills': np.sum(redtotal_minionkill),\n",
    "                             'redTotalJungleMinionKills':np.sum(redtotal_jungleminionkill),\n",
    "                             'redFirstBlood':red_firstkill,\n",
    "                             'redKill':red_kill,\n",
    "                             'redDeath':red_death,\n",
    "                             'redAssist':red_assist,\n",
    "                             'redWardPlaced':red_wardplace,\n",
    "                             'redWardKills':red_wardkill,\n",
    "                             'redFirstTower':red_firsttower,\n",
    "                             'redFirstInhibitor':red_firstinhibitor,\n",
    "                             'redFirstTowerLane':red_firsttowerlane,\n",
    "                             'redTowerKills':red_tower,\n",
    "                             'redMidTowerKills':red_midtower,\n",
    "                             'redTopTowerKills':red_toptower,\n",
    "                             'redBotTowerKills':red_bottower,\n",
    "                             'redInhibitor':red_inhibitor,\n",
    "                             'redFirstDragon':red_firstdragon,\n",
    "                             'redDragonType':red_dragontype.copy(),\n",
    "                             'redDragon':red_dragon,\n",
    "                             'redRiftHeralds':red_rift,\n",
    "                             'redFirstBaron':red_firstbaron,\n",
    "                             'redBaron':red_baron,\n",
    "                             'redElite':red_elite}\n",
    "                data.append(inputData)\n",
    "                #MatchData = MatchData.append(inputData, ignore_index = True)\n",
    "    except: #에러발생 시 바로 다음 반복문으로 넘어가게끔\n",
    "            print('error visual')\n",
    "            error_list.append(data1[i])\n",
    "            pass"
   ]
  },
  {
   "cell_type": "code",
   "execution_count": null,
   "metadata": {},
   "outputs": [],
   "source": [
    "#수집할 컬럼 정의\n",
    "MatchData = pd.DataFrame(data, columns = ['gameId','timeStamp'\\\n",
    "                        ,'blueWins','blueTotalGolds','blueCurrentGolds','blueTotalLevel','blueAvgLevel'\\\n",
    "                        ,'blueTotalMinionKills','blueTotalJungleMinionKills'\n",
    "                        ,'blueFirstBlood','blueKill','blueDeath','blueAssist'\\\n",
    "                        ,'blueWardPlaced','blueWardKills','blueFirstTower','blueFirstInhibitor','blueFirstTowerLane'\\\n",
    "                        ,'blueTowerKills','blueMidTowerKills','blueTopTowerKills','blueBotTowerKills','blueInhibitor'\\\n",
    "                        ,'blueFirstDragon','blueDragonType','blueDragon','blueRiftHeralds','blueFirstBaron','blueBaron','blueElite'\\\n",
    "                        ,'redWins','redTotalGolds','redCurrentGolds','redTotalLevel','redAvgLevel'\\\n",
    "                        ,'redTotalMinionKills','redTotalJungleMinionKills'\n",
    "                        ,'redFirstBlood','redKill','redDeath','redAssist'\\\n",
    "                        ,'redWardPlaced','redWardKills','redFirstTower','redFirstInhibitor','redFirstTowerLane'\\\n",
    "                        ,'redTowerKills','redMidTowerKills','redTopTowerKills','redBotTowerKills','redInhibitor'\\\n",
    "                        ,'redFirstDragon','redDragonType','redDragon','redRiftHeralds','redFirstBaron','redBaron','redElite'])\n",
    "MatchData"
   ]
  },
  {
   "cell_type": "code",
   "execution_count": null,
   "metadata": {},
   "outputs": [],
   "source": [
    "MatchData.to_csv(\"tsmd2.csv\", header=True , index = False)"
   ]
  },
  {
   "cell_type": "markdown",
   "metadata": {
    "id": "AW7Ov0GKsO5y"
   },
   "source": []
  }
 ],
 "metadata": {
  "colab": {
   "provenance": []
  },
  "kernelspec": {
   "display_name": "Python 3 (ipykernel)",
   "language": "python",
   "name": "python3"
  },
  "language_info": {
   "codemirror_mode": {
    "name": "ipython",
    "version": 3
   },
   "file_extension": ".py",
   "mimetype": "text/x-python",
   "name": "python",
   "nbconvert_exporter": "python",
   "pygments_lexer": "ipython3",
   "version": "3.9.13"
  }
 },
 "nbformat": 4,
 "nbformat_minor": 1
}
