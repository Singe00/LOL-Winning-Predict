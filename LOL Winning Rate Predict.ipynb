{
 "cells": [
  {
   "cell_type": "markdown",
   "id": "0ca68f83",
   "metadata": {},
   "source": [
    "# **리그 오브 레전드 승률 예측 딥러닝 모델 학습**"
   ]
  },
  {
   "cell_type": "markdown",
   "id": "15660411",
   "metadata": {},
   "source": [
    "**모듈 불러오기**"
   ]
  },
  {
   "cell_type": "code",
   "execution_count": null,
   "id": "83684f7f",
   "metadata": {},
   "outputs": [],
   "source": [
    "import pandas as pd\n",
    "from sklearn.linear_model import LogisticRegression\n",
    "from sklearn.tree import DecisionTreeClassifier\n",
    "from sklearn.ensemble import RandomForestClassifier\n",
    "import xgboost as xgb\n",
    "from sklearn.model_selection import train_test_split\n",
    "from sklearn.metrics import accuracy_score\n",
    "import seaborn as sns\n",
    "import joblib"
   ]
  },
  {
   "cell_type": "markdown",
   "id": "85eb1845",
   "metadata": {},
   "source": [
    "**데이터셋 합치기**"
   ]
  },
  {
   "cell_type": "code",
   "execution_count": null,
   "id": "00a6d92d",
   "metadata": {},
   "outputs": [],
   "source": [
    "# 빈 데이터프레임 생성\n",
    "merged_df = pd.DataFrame()\n",
    "\n",
    "# 파일들을 차례대로 읽어들여서 합침\n",
    "for i in range(1, 8):\n",
    "    filename = f\"tsmd{i}.csv\"\n",
    "    filepath = f\"{filename}\" # 파일 경로 수정 필요\n",
    "    df = pd.read_csv(filepath, encoding='utf-8')\n",
    "    merged_df = pd.concat([merged_df, df], axis=0, ignore_index=True)\n",
    "\n",
    "# 결과 출력\n",
    "print(merged_df.head())"
   ]
  },
  {
   "cell_type": "code",
   "execution_count": null,
   "id": "9a045ef6",
   "metadata": {},
   "outputs": [],
   "source": [
    "# 결과 출력\n",
    "\n",
    "print(len(merged_df))\n",
    "data = merged_df\n",
    "# 카테고리형 데이터를 one-hot 인코딩\n",
    "data = pd.get_dummies(data, columns=['blueFirstTowerLane', 'blueDragonType', 'redFirstTowerLane', 'redDragonType'])\n",
    "\n",
    "data"
   ]
  },
  {
   "cell_type": "markdown",
   "id": "cc9f7aa4",
   "metadata": {},
   "source": [
    "**데이터셋 불러오기**"
   ]
  },
  {
   "cell_type": "code",
   "execution_count": null,
   "id": "bbe77995",
   "metadata": {},
   "outputs": [],
   "source": [
    "data.to_csv(\"temp.csv\", header=True , index = False)"
   ]
  },
  {
   "cell_type": "code",
   "execution_count": null,
   "id": "ec86f331",
   "metadata": {},
   "outputs": [],
   "source": [
    "data = pd.read_csv('data.csv')"
   ]
  },
  {
   "cell_type": "markdown",
   "id": "cc9a351a",
   "metadata": {},
   "source": [
    "**데이터 전처리 및 데이터셋 분리**"
   ]
  },
  {
   "cell_type": "code",
   "execution_count": null,
   "id": "b9950eba",
   "metadata": {},
   "outputs": [],
   "source": [
    "\n",
    "# X, y 분리\n",
    "X = data.drop(['gameId', 'timeStamp', 'blueWins'], axis=1)\n",
    "y = data['blueWins']\n",
    "\n",
    "# 학습 데이터와 테스트 데이터 분리\n",
    "X_train, X_test, y_train, y_test = train_test_split(X, y, test_size=0.2, random_state=42)\n"
   ]
  },
  {
   "cell_type": "markdown",
   "id": "eef94b23",
   "metadata": {},
   "source": [
    "## **로지스틱 회귀**"
   ]
  },
  {
   "cell_type": "code",
   "execution_count": null,
   "id": "482e5365",
   "metadata": {},
   "outputs": [],
   "source": [
    "# 로지스틱 회귀 모델 학습\n",
    "lr_model = LogisticRegression()\n",
    "lr_model.fit(X_train, y_train)\n",
    "\n",
    "# 예측\n",
    "y_pred = lr_model.predict(X_test)\n",
    "\n",
    "# 정확도 측정\n",
    "accuracy1 = accuracy_score(y_test, y_pred)\n",
    "print('로지스틱 회귀 모델 정확도:', accuracy)"
   ]
  },
  {
   "cell_type": "markdown",
   "id": "e2d430c6",
   "metadata": {},
   "source": [
    "## **랜덤 포레스트**"
   ]
  },
  {
   "cell_type": "code",
   "execution_count": null,
   "id": "4da51296",
   "metadata": {},
   "outputs": [],
   "source": [
    "# 랜덤 포레스트 모델 학습\n",
    "rf_model = RandomForestClassifier()\n",
    "rf_model.fit(X_train, y_train)\n",
    "\n",
    "# 예측\n",
    "y_pred = rf_model.predict(X_test)\n",
    "\n",
    "# 정확도 측정\n",
    "accuracy2 = accuracy_score(y_test, y_pred)\n",
    "print('랜덤 포레스트 모델 정확도:', accuracy)"
   ]
  },
  {
   "cell_type": "markdown",
   "id": "ff4317d4",
   "metadata": {},
   "source": [
    "## **XGBoost**"
   ]
  },
  {
   "cell_type": "code",
   "execution_count": null,
   "id": "451aeb5d",
   "metadata": {},
   "outputs": [],
   "source": [
    "# XGBoost 모델 학습\n",
    "xgb_model = xgb.XGBClassifier()\n",
    "xgb_model.fit(X_train, y_train)\n",
    "\n",
    "# 예측\n",
    "y_pred = xgb_model.predict(X_test)\n",
    "\n",
    "# 정확도 측정\n",
    "accuracy3 = accuracy_score(y_test, y_pred)\n",
    "print('XGBoost 모델 정확도:', accuracy)"
   ]
  },
  {
   "cell_type": "code",
   "execution_count": null,
   "id": "51a3b674",
   "metadata": {},
   "outputs": [],
   "source": [
    "\n",
    "\n",
    "# 정확도 데이터프레임 생성\n",
    "accuracy_df = pd.DataFrame({'Model': ['Logistic Regression', 'Random Forest', 'XGBoost'], 'Accuracy': [accuracy1, accuracy2, accuracy3]})\n",
    "\n",
    "# 시각화\n",
    "sns.set(style=\"whitegrid\")\n",
    "sns.barplot(x=\"Model\", y=\"Accuracy\", data=accuracy_df)\n",
    "plt.ylim(0.6, 0.8) # y축 범위 지정\n",
    "plt.title('Accuracy of League of Legends Win Prediction Models')\n",
    "plt.show()"
   ]
  },
  {
   "cell_type": "code",
   "execution_count": null,
   "id": "d122ad8e",
   "metadata": {},
   "outputs": [],
   "source": [
    "joblib.dump(lr_model, 'lr_model.pkl')\n",
    "joblib.dump(rf_model, 'rf_model.pkl')\n",
    "joblib.dump(xgb_model, 'xgb_model.pkl')"
   ]
  },
  {
   "cell_type": "code",
   "execution_count": null,
   "id": "ebee9cc6",
   "metadata": {},
   "outputs": [],
   "source": []
  }
 ],
 "metadata": {
  "kernelspec": {
   "display_name": "Python 3 (ipykernel)",
   "language": "python",
   "name": "python3"
  },
  "language_info": {
   "codemirror_mode": {
    "name": "ipython",
    "version": 3
   },
   "file_extension": ".py",
   "mimetype": "text/x-python",
   "name": "python",
   "nbconvert_exporter": "python",
   "pygments_lexer": "ipython3",
   "version": "3.9.13"
  }
 },
 "nbformat": 4,
 "nbformat_minor": 5
}
